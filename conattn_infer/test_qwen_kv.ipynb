{
 "cells": [
  {
   "cell_type": "markdown",
   "metadata": {},
   "source": [
    "## Model Loading"
   ]
  },
  {
   "cell_type": "code",
   "execution_count": 2,
   "metadata": {},
   "outputs": [],
   "source": [
    "import os\n",
    "\n",
    "os.environ[\"HF_ENDPOINT\"] = \"https://hf-mirror.com\"\n",
    "os.environ[\"HF_HUB_OFFLINE\"] = \"1\"\n",
    "os.environ[\"CUDA_VISIBLE_DEVICES\"] = \"0,1\"\n"
   ]
  },
  {
   "cell_type": "code",
   "execution_count": 3,
   "metadata": {},
   "outputs": [],
   "source": [
    "import torch\n",
    "from torch import nn\n",
    "from torch.nn import functional as F\n",
    "from torch.utils.data import DataLoader\n",
    "from torchvision import datasets, transforms\n",
    "from torchvision.utils import make_grid\n",
    "from PIL import Image, ImageDraw, ImageFont\n",
    "\n",
    "from copy import deepcopy, copy\n",
    "from tqdm.auto import tqdm\n",
    "from matplotlib import pyplot as plt\n",
    "# %matplotlib widget\n",
    "\n",
    "from transformers import (\n",
    "    AutoModelForImageTextToText,\n",
    "    AutoTokenizer,\n",
    "    AutoProcessor,\n",
    "    Qwen2VLForConditionalGeneration,\n",
    "    Qwen2VLProcessor,\n",
    "    Qwen2VLConfig,\n",
    ")\n",
    "from transformers.generation.utils import (\n",
    "    GenerateDecoderOnlyOutput,\n",
    ")\n",
    "from transformers.cache_utils import (\n",
    "    DynamicCache,\n",
    "    StaticCache,\n",
    "    SinkCache,\n",
    "    SlidingWindowCache,\n",
    "    OffloadedCache,\n",
    "    OffloadedStaticCache,\n",
    "\n",
    "    Cache,\n",
    "    CacheConfig,\n",
    ")\n"
   ]
  },
  {
   "cell_type": "code",
   "execution_count": 4,
   "metadata": {},
   "outputs": [
    {
     "data": {
      "application/vnd.jupyter.widget-view+json": {
       "model_id": "3466f0624d534f8aa56c39d45837ca16",
       "version_major": 2,
       "version_minor": 0
      },
      "text/plain": [
       "Loading checkpoint shards:   0%|          | 0/2 [00:00<?, ?it/s]"
      ]
     },
     "metadata": {},
     "output_type": "display_data"
    }
   ],
   "source": [
    "from qwen import Qwen2VLForAttnExtraction, bbox_from_att_image_adaptive\n",
    "\n",
    "small_model = Qwen2VLForAttnExtraction()\n"
   ]
  },
  {
   "cell_type": "code",
   "execution_count": 5,
   "metadata": {},
   "outputs": [],
   "source": [
    "small_model = small_model.to(\"cuda:1\")\n"
   ]
  },
  {
   "cell_type": "code",
   "execution_count": 6,
   "metadata": {},
   "outputs": [
    {
     "data": {
      "application/vnd.jupyter.widget-view+json": {
       "model_id": "af68b2494b264baeaf8d33140e08603e",
       "version_major": 2,
       "version_minor": 0
      },
      "text/plain": [
       "Loading checkpoint shards:   0%|          | 0/5 [00:00<?, ?it/s]"
      ]
     },
     "metadata": {},
     "output_type": "display_data"
    }
   ],
   "source": [
    "QWEN_2_VL_2B_MODEL_ID = \"Qwen/Qwen2-VL-2B-Instruct\"\n",
    "QWEN_2_VL_7B_MODEL_ID = \"Qwen/Qwen2-VL-7B-Instruct\"\n",
    "\n",
    "model: Qwen2VLForConditionalGeneration = Qwen2VLForConditionalGeneration.from_pretrained(\n",
    "    QWEN_2_VL_7B_MODEL_ID,\n",
    "    torch_dtype=\"auto\",\n",
    "    local_files_only=True,\n",
    "    use_safetensors=True,\n",
    "    low_cpu_mem_usage=True,\n",
    ") # type: ignore\n",
    "processor: Qwen2VLProcessor = Qwen2VLProcessor.from_pretrained(\n",
    "    QWEN_2_VL_7B_MODEL_ID, local_files_only=True, use_fast=True\n",
    ") # type: ignore\n",
    "assert isinstance(model, Qwen2VLForConditionalGeneration), model\n",
    "assert isinstance(processor, Qwen2VLProcessor), processor\n"
   ]
  },
  {
   "cell_type": "code",
   "execution_count": 7,
   "metadata": {},
   "outputs": [],
   "source": [
    "model = model.to(\"cuda\")\n"
   ]
  },
  {
   "cell_type": "code",
   "execution_count": 8,
   "metadata": {},
   "outputs": [],
   "source": [
    "# attn_out = {}\n",
    "# make_layer_attn_hooks(\n",
    "#     model.model.layers, [14, 15], attn_out, clear_hooks=True, clear_attn_output=True\n",
    "# )\n"
   ]
  },
  {
   "cell_type": "code",
   "execution_count": 9,
   "metadata": {},
   "outputs": [],
   "source": [
    "# summary(model, (1, 1), device=\"cuda\", dtypes=[torch.long], depth=5)\n"
   ]
  },
  {
   "cell_type": "markdown",
   "metadata": {},
   "source": [
    "## Inputs\n"
   ]
  },
  {
   "cell_type": "code",
   "execution_count": 77,
   "metadata": {},
   "outputs": [],
   "source": [
    "image = Image.open(\"/home/scm/LMUData/images/A-OKVQA/1.jpg\")\n"
   ]
  },
  {
   "cell_type": "code",
   "execution_count": 78,
   "metadata": {},
   "outputs": [],
   "source": [
    "message=[{'role': 'user', 'content': [{'type': 'image', 'image': 'file:///home/scm/LMUData/images/A-OKVQA/1.jpg', 'min_pixels': 200704, 'max_pixels': 200704}, {'type': 'text', 'text': \"Question: What is in the motorcyclist's mouth?\\nOptions:\\nA. toothpick\\nB. food\\nC. popsicle stick\\nD. cigarette\\nPlease select the correct answer from the options above.\"}]}]\n",
    "\n",
    "text_prompt = processor.apply_chat_template(\n",
    "    message, tokenize=False, add_generation_prompt=True\n",
    ")\n",
    "\n"
   ]
  },
  {
   "cell_type": "code",
   "execution_count": 79,
   "metadata": {},
   "outputs": [
    {
     "name": "stdout",
     "output_type": "stream",
     "text": [
      "dict_keys(['input_ids', 'attention_mask', 'pixel_values', 'image_grid_thw'])\n",
      "input_ids: torch.Size([1, 523])\n",
      "attention_mask: torch.Size([1, 523])\n",
      "pixel_values: torch.Size([1840, 1176])\n",
      "image_grid_thw: [[1, 40, 46]]\n"
     ]
    }
   ],
   "source": [
    "inputs = processor(\n",
    "    images=[image],\n",
    "    text=text_prompt[:-1],\n",
    "    return_tensors=\"pt\",\n",
    "    # padding=True,\n",
    ")\n",
    "\n",
    "print(inputs.keys())\n",
    "print(f'input_ids: {inputs.input_ids.shape}')\n",
    "print(f'attention_mask: {inputs.attention_mask.shape}')\n",
    "print(f'pixel_values: {inputs.pixel_values.shape}')\n",
    "print(f'image_grid_thw: {inputs.image_grid_thw.tolist()}')\n",
    "\n",
    "inputs = inputs.to(model.device)\n"
   ]
  },
  {
   "cell_type": "markdown",
   "metadata": {},
   "source": [
    "## Attention Extraction"
   ]
  },
  {
   "cell_type": "code",
   "execution_count": 80,
   "metadata": {},
   "outputs": [
    {
     "data": {
      "text/plain": [
       "torch.Size([20, 23])"
      ]
     },
     "execution_count": 80,
     "metadata": {},
     "output_type": "execute_result"
    }
   ],
   "source": [
    "attn = small_model.extract_attention(\n",
    "    \"Where's the fox?\",\n",
    "    image,\n",
    "    # [],\n",
    "    attn_type=\"contrastive\",\n",
    "    single_token_generation=False,\n",
    "    contrast_layers=(14, 6),\n",
    ")\n",
    "attn[0].shape\n"
   ]
  },
  {
   "cell_type": "code",
   "execution_count": 81,
   "metadata": {},
   "outputs": [
    {
     "data": {
      "image/png": "[encoded data removed]",
      "text/plain": [
       "<Figure size 640x480 with 2 Axes>"
      ]
     },
     "metadata": {},
     "output_type": "display_data"
    }
   ],
   "source": [
    "plt.close()\n",
    "plt.imshow(attn[0][:, :])\n",
    "plt.axis('off')\n",
    "plt.title('Attention')\n",
    "plt.colorbar()\n",
    "plt.show()\n"
   ]
  },
  {
   "cell_type": "markdown",
   "metadata": {},
   "source": [
    "## Cache Test\n",
    "\n",
    "[Cache Prefilling](https://huggingface.co/docs/transformers/main/en/kv_cache#prefill-a-cache)"
   ]
  },
  {
   "cell_type": "code",
   "execution_count": 82,
   "metadata": {},
   "outputs": [],
   "source": [
    "prompt_cache = StaticCache(\n",
    "    config=model.config,\n",
    "    max_batch_size=1,\n",
    "    max_cache_len=2048,\n",
    "    device=model.device,\n",
    "    dtype=model.dtype,\n",
    "    # layer_device_map={0: \"cuda\", 1: \"cuda\", 2: \"cuda\", 3: \"cuda\", 4: \"cuda\", 5: \"cuda\", 6: \"cuda\", 7: \"cuda\"}\n",
    ")\n"
   ]
  },
  {
   "cell_type": "code",
   "execution_count": 83,
   "metadata": {},
   "outputs": [
    {
     "name": "stdout",
     "output_type": "stream",
     "text": [
      "prompt_len: 523\n"
     ]
    },
    {
     "name": "stderr",
     "output_type": "stream",
     "text": [
      "/home/scm/miniconda3/envs/llmabsa/lib/python3.10/site-packages/torch/nn/modules/conv.py:605: UserWarning: Plan failed with a cudnnException: CUDNN_BACKEND_EXECUTION_PLAN_DESCRIPTOR: cudnnFinalize Descriptor Failed cudnn_status: CUDNN_STATUS_NOT_SUPPORTED (Triggered internally at ../aten/src/ATen/native/cudnn/Conv_v8.cpp:919.)\n",
      "  return F.conv3d(\n"
     ]
    }
   ],
   "source": [
    "with torch.no_grad():\n",
    "    # prompt_cache.reset()\n",
    "    prompt_cache = DynamicCache()\n",
    "    initial_outputs = model(**inputs, past_key_values=prompt_cache)\n",
    "    prompt_cache = initial_outputs.past_key_values\n",
    "\n",
    "print(f\"prompt_len: {prompt_cache.get_seq_length()}\")\n"
   ]
  },
  {
   "cell_type": "code",
   "execution_count": 84,
   "metadata": {},
   "outputs": [
    {
     "name": "stdout",
     "output_type": "stream",
     "text": [
      "torch.Size([1, 523, 152064])\n",
      "tensor([[-437]], device='cuda:0')\n"
     ]
    }
   ],
   "source": [
    "initial_outputs.keys()\n",
    "\n",
    "print(initial_outputs.logits.shape)\n",
    "# print(initial_outputs.past_key_values)\n",
    "print(initial_outputs.rope_deltas)\n"
   ]
  },
  {
   "cell_type": "code",
   "execution_count": 85,
   "metadata": {},
   "outputs": [],
   "source": [
    "new_inputs = processor(\n",
    "    images=[image],\n",
    "    text=text_prompt,\n",
    "    return_tensors=\"pt\",\n",
    "    # padding=True,\n",
    ")\n",
    "new_inputs = new_inputs.to(model.device)\n"
   ]
  },
  {
   "cell_type": "code",
   "execution_count": 86,
   "metadata": {},
   "outputs": [],
   "source": [
    "# processor.decode(initial_outputs.logits[0, -1, :].argmax(dim=-1))\n",
    "# new_tokens = initial_outputs.logits[0, -1, :].argmax(dim=-1)\n",
    "# new_texts = processor.decode(new_tokens)\n",
    "\n",
    "# dict(prompt_cache.named_buffers()).keys()\n"
   ]
  },
  {
   "cell_type": "code",
   "execution_count": 87,
   "metadata": {},
   "outputs": [],
   "source": [
    "# new_inputs = processor(\n",
    "#     images=[image],\n",
    "#     text=text_prompt,# + new_texts,\n",
    "#     return_tensors=\"pt\",\n",
    "#     # padding=True,\n",
    "# ).to(model.device)\n",
    "# new_inputs\n"
   ]
  },
  {
   "cell_type": "code",
   "execution_count": 88,
   "metadata": {},
   "outputs": [],
   "source": [
    "from typing import Literal\n",
    "\n",
    "# Apply weighted attention to vision tokens, fix multiple images\n",
    "def reweighted_vision_tokens(\n",
    "    vision_attn_weight,\n",
    "    keep_percentage,\n",
    "    weighting_type: Literal[\"linear\", \"uniform\", \"suppress\"] = \"linear\",\n",
    "    lowest_weight=0.0,\n",
    "    neg_attn_weight=None,\n",
    "    suppress_alpha=0.5,\n",
    "):\n",
    "    if weighting_type == \"suppress\":\n",
    "        if neg_attn_weight is None:\n",
    "            raise ValueError(\"neg_attn_weight must be provided for suppress mode\")\n",
    "        # 使用负样例注意力权重进行抑制\n",
    "        weight_vision_token = 1 - suppress_alpha * neg_attn_weight\n",
    "        return weight_vision_token\n",
    "\n",
    "    sorted_indices = torch.argsort(vision_attn_weight, descending=True)\n",
    "    num_tokens_to_keep = int(len(vision_attn_weight) * keep_percentage)\n",
    "    weight_vision_token = torch.zeros_like(vision_attn_weight, dtype=torch.float)\n",
    "    weight_vision_token[sorted_indices[:num_tokens_to_keep]] = 1.0\n",
    "    if weighting_type == \"linear\":\n",
    "        weight_vision_token[sorted_indices[num_tokens_to_keep:]] = torch.linspace(\n",
    "            lowest_weight, 1.0, len(vision_attn_weight) - num_tokens_to_keep\n",
    "        )\n",
    "    else:\n",
    "        weight_vision_token[sorted_indices[num_tokens_to_keep:]] = lowest_weight\n",
    "    return weight_vision_token\n"
   ]
  },
  {
   "cell_type": "code",
   "execution_count": 89,
   "metadata": {},
   "outputs": [],
   "source": [
    "attn_flat = attn[0].flatten()\n",
    "\n",
    "weight = reweighted_vision_tokens(\n",
    "    attn_flat, keep_percentage=0.3, lowest_weight=0.6, weighting_type=\"linear\"\n",
    ")\n",
    "weight = weight.to(model.device)\n"
   ]
  },
  {
   "cell_type": "code",
   "execution_count": 90,
   "metadata": {},
   "outputs": [],
   "source": [
    "vision_start_token_id = model.config.vision_start_token_id\n",
    "vision_end_token_id = model.config.vision_end_token_id\n",
    "prefill_len = inputs[\"input_ids\"].shape[1]\n",
    "vision_start_token_indices = (\n",
    "    torch.where(inputs[\"input_ids\"][0] == vision_start_token_id)[0] + 1\n",
    ")\n",
    "vision_end_token_indices = torch.where(inputs[\"input_ids\"][0] == vision_end_token_id)[0]\n",
    "assert len(vision_start_token_indices) == len(vision_end_token_indices) == 1, (\n",
    "    \"vision_start_token_indices and vision_end_token_indices should have the same length\"\n",
    ")\n"
   ]
  },
  {
   "cell_type": "code",
   "execution_count": 91,
   "metadata": {},
   "outputs": [
    {
     "data": {
      "text/plain": [
       "tensor([460], device='cuda:0')"
      ]
     },
     "execution_count": 91,
     "metadata": {},
     "output_type": "execute_result"
    }
   ],
   "source": [
    "vision_end_token_indices - vision_start_token_indices\n"
   ]
  },
  {
   "cell_type": "code",
   "execution_count": 92,
   "metadata": {},
   "outputs": [],
   "source": [
    "# dict(prompt_cache.named_buffers()).keys()\n",
    "\n",
    "# Each layer of key_cache should have a size (bs, n_head_groups, n_max_cache_len, d_head)\n",
    "# As Qwen 2+ invoke GQA with group_size = 6, so n_head_groups = 2, while n_head = 12\n",
    "\n",
    "# for name, buffer in prompt_cache.named_buffers():\n",
    "#   if name.startswith('key_cache_'):\n",
    "#     print(f'{name}: {buffer.shape}')\n",
    "\n",
    "for i, (k, v) in enumerate(\n",
    "    zip(prompt_cache.key_cache, prompt_cache.value_cache, strict=True)\n",
    "):\n",
    "    # print(f'key layer {i:2d}: {tuple(k.shape)}')\n",
    "    k[:, :, vision_start_token_indices:vision_end_token_indices, :] *= weight[\n",
    "        None, None, :, None\n",
    "    ]\n",
    "    v[:, :, vision_start_token_indices:vision_end_token_indices, :] *= weight[\n",
    "        None, None, :, None\n",
    "    ]\n"
   ]
  },
  {
   "cell_type": "code",
   "execution_count": 93,
   "metadata": {},
   "outputs": [
    {
     "data": {
      "text/plain": [
       "torch.Size([460])"
      ]
     },
     "execution_count": 93,
     "metadata": {},
     "output_type": "execute_result"
    }
   ],
   "source": [
    "prompt_cache.value_cache[0].shape\n",
    "weight.shape\n"
   ]
  },
  {
   "cell_type": "code",
   "execution_count": 99,
   "metadata": {},
   "outputs": [],
   "source": [
    "import copy\n",
    "\n",
    "input_cache = copy.deepcopy(prompt_cache)\n"
   ]
  },
  {
   "cell_type": "code",
   "execution_count": 105,
   "metadata": {},
   "outputs": [
    {
     "name": "stdout",
     "output_type": "stream",
     "text": [
      "torch.Size([1, 4, 527, 128])\n",
      "torch.Size([1, 4, 527, 128])\n"
     ]
    }
   ],
   "source": [
    "print(input_cache.value_cache[0].shape)\n",
    "print(input_cache.key_cache[0].shape)\n"
   ]
  },
  {
   "cell_type": "code",
   "execution_count": 100,
   "metadata": {},
   "outputs": [],
   "source": [
    "new_outputs = model.generate(**new_inputs, past_key_values=input_cache, max_new_tokens=2048)\n"
   ]
  },
  {
   "cell_type": "code",
   "execution_count": 96,
   "metadata": {},
   "outputs": [
    {
     "name": "stdout",
     "output_type": "stream",
     "text": [
      "<|im_start|>system\n",
      "You are a helpful assistant.<|im_end|>\n",
      "<|im_start|>user\n",
      "<|vision_start|><|image_pad|><|image_pad|><|image_pad|><|image_pad|><|image_pad|><|image_pad|><|image_pad|><|image_pad|><|image_pad|><|image_pad|><|image_pad|><|image_pad|><|image_pad|><|image_pad|><|image_pad|><|image_pad|><|image_pad|><|image_pad|><|image_pad|><|image_pad|><|image_pad|><|image_pad|><|image_pad|><|image_pad|><|image_pad|><|image_pad|><|image_pad|><|image_pad|><|image_pad|><|image_pad|><|image_pad|><|image_pad|><|image_pad|><|image_pad|><|image_pad|><|image_pad|><|image_pad|><|image_pad|><|image_pad|><|image_pad|><|image_pad|><|image_pad|><|image_pad|><|image_pad|><|image_pad|><|image_pad|><|image_pad|><|image_pad|><|image_pad|><|image_pad|><|image_pad|><|image_pad|><|image_pad|><|image_pad|><|image_pad|><|image_pad|><|image_pad|><|image_pad|><|image_pad|><|image_pad|><|image_pad|><|image_pad|><|image_pad|><|image_pad|><|image_pad|><|image_pad|><|image_pad|><|image_pad|><|image_pad|><|image_pad|><|image_pad|><|image_pad|><|image_pad|><|image_pad|><|image_pad|><|image_pad|><|image_pad|><|image_pad|><|image_pad|><|image_pad|><|image_pad|><|image_pad|><|image_pad|><|image_pad|><|image_pad|><|image_pad|><|image_pad|><|image_pad|><|image_pad|><|image_pad|><|image_pad|><|image_pad|><|image_pad|><|image_pad|><|image_pad|><|image_pad|><|image_pad|><|image_pad|><|image_pad|><|image_pad|><|image_pad|><|image_pad|><|image_pad|><|image_pad|><|image_pad|><|image_pad|><|image_pad|><|image_pad|><|image_pad|><|image_pad|><|image_pad|><|image_pad|><|image_pad|><|image_pad|><|image_pad|><|image_pad|><|image_pad|><|image_pad|><|image_pad|><|image_pad|><|image_pad|><|image_pad|><|image_pad|><|image_pad|><|image_pad|><|image_pad|><|image_pad|><|image_pad|><|image_pad|><|image_pad|><|image_pad|><|image_pad|><|image_pad|><|image_pad|><|image_pad|><|image_pad|><|image_pad|><|image_pad|><|image_pad|><|image_pad|><|image_pad|><|image_pad|><|image_pad|><|image_pad|><|image_pad|><|image_pad|><|image_pad|><|image_pad|><|image_pad|><|image_pad|><|image_pad|><|image_pad|><|image_pad|><|image_pad|><|image_pad|><|image_pad|><|image_pad|><|image_pad|><|image_pad|><|image_pad|><|image_pad|><|image_pad|><|image_pad|><|image_pad|><|image_pad|><|image_pad|><|image_pad|><|image_pad|><|image_pad|><|image_pad|><|image_pad|><|image_pad|><|image_pad|><|image_pad|><|image_pad|><|image_pad|><|image_pad|><|image_pad|><|image_pad|><|image_pad|><|image_pad|><|image_pad|><|image_pad|><|image_pad|><|image_pad|><|image_pad|><|image_pad|><|image_pad|><|image_pad|><|image_pad|><|image_pad|><|image_pad|><|image_pad|><|image_pad|><|image_pad|><|image_pad|><|image_pad|><|image_pad|><|image_pad|><|image_pad|><|image_pad|><|image_pad|><|image_pad|><|image_pad|><|image_pad|><|image_pad|><|image_pad|><|image_pad|><|image_pad|><|image_pad|><|image_pad|><|image_pad|><|image_pad|><|image_pad|><|image_pad|><|image_pad|><|image_pad|><|image_pad|><|image_pad|><|image_pad|><|image_pad|><|image_pad|><|image_pad|><|image_pad|><|image_pad|><|image_pad|><|image_pad|><|image_pad|><|image_pad|><|image_pad|><|image_pad|><|image_pad|><|image_pad|><|image_pad|><|image_pad|><|image_pad|><|image_pad|><|image_pad|><|image_pad|><|image_pad|><|image_pad|><|image_pad|><|image_pad|><|image_pad|><|image_pad|><|image_pad|><|image_pad|><|image_pad|><|image_pad|><|image_pad|><|image_pad|><|image_pad|><|image_pad|><|image_pad|><|image_pad|><|image_pad|><|image_pad|><|image_pad|><|image_pad|><|image_pad|><|image_pad|><|image_pad|><|image_pad|><|image_pad|><|image_pad|><|image_pad|><|image_pad|><|image_pad|><|image_pad|><|image_pad|><|image_pad|><|image_pad|><|image_pad|><|image_pad|><|image_pad|><|image_pad|><|image_pad|><|image_pad|><|image_pad|><|image_pad|><|image_pad|><|image_pad|><|image_pad|><|image_pad|><|image_pad|><|image_pad|><|image_pad|><|image_pad|><|image_pad|><|image_pad|><|image_pad|><|image_pad|><|image_pad|><|image_pad|><|image_pad|><|image_pad|><|image_pad|><|image_pad|><|image_pad|><|image_pad|><|image_pad|><|image_pad|><|image_pad|><|image_pad|><|image_pad|><|image_pad|><|image_pad|><|image_pad|><|image_pad|><|image_pad|><|image_pad|><|image_pad|><|image_pad|><|image_pad|><|image_pad|><|image_pad|><|image_pad|><|image_pad|><|image_pad|><|image_pad|><|image_pad|><|image_pad|><|image_pad|><|image_pad|><|image_pad|><|image_pad|><|image_pad|><|image_pad|><|image_pad|><|image_pad|><|image_pad|><|image_pad|><|image_pad|><|image_pad|><|image_pad|><|image_pad|><|image_pad|><|image_pad|><|image_pad|><|image_pad|><|image_pad|><|image_pad|><|image_pad|><|image_pad|><|image_pad|><|image_pad|><|image_pad|><|image_pad|><|image_pad|><|image_pad|><|image_pad|><|image_pad|><|image_pad|><|image_pad|><|image_pad|><|image_pad|><|image_pad|><|image_pad|><|image_pad|><|image_pad|><|image_pad|><|image_pad|><|image_pad|><|image_pad|><|image_pad|><|image_pad|><|image_pad|><|image_pad|><|image_pad|><|image_pad|><|image_pad|><|image_pad|><|image_pad|><|image_pad|><|image_pad|><|image_pad|><|image_pad|><|image_pad|><|image_pad|><|image_pad|><|image_pad|><|image_pad|><|image_pad|><|image_pad|><|image_pad|><|image_pad|><|image_pad|><|image_pad|><|image_pad|><|image_pad|><|image_pad|><|image_pad|><|image_pad|><|image_pad|><|image_pad|><|image_pad|><|image_pad|><|image_pad|><|image_pad|><|image_pad|><|image_pad|><|image_pad|><|image_pad|><|image_pad|><|image_pad|><|image_pad|><|image_pad|><|image_pad|><|image_pad|><|image_pad|><|image_pad|><|image_pad|><|image_pad|><|image_pad|><|image_pad|><|image_pad|><|image_pad|><|image_pad|><|image_pad|><|image_pad|><|image_pad|><|image_pad|><|image_pad|><|image_pad|><|image_pad|><|image_pad|><|image_pad|><|image_pad|><|image_pad|><|image_pad|><|image_pad|><|image_pad|><|image_pad|><|image_pad|><|image_pad|><|image_pad|><|image_pad|><|image_pad|><|image_pad|><|image_pad|><|image_pad|><|image_pad|><|image_pad|><|image_pad|><|image_pad|><|image_pad|><|image_pad|><|image_pad|><|image_pad|><|image_pad|><|image_pad|><|image_pad|><|image_pad|><|image_pad|><|image_pad|><|image_pad|><|image_pad|><|image_pad|><|image_pad|><|image_pad|><|vision_end|>Question: What is in the motorcyclist's mouth?\n",
      "Options:\n",
      "A. toothpick\n",
      "B. food\n",
      "C. popsicle stick\n",
      "D. cigarette\n",
      "Please select the correct answer from the options above.<|im_end|>\n",
      "<|im_start|>assistant\n",
      "D. cigarette<|im_end|>\n"
     ]
    }
   ],
   "source": [
    "print(processor.decode(new_outputs[0]))\n"
   ]
  },
  {
   "cell_type": "markdown",
   "metadata": {},
   "source": [
    "## Stream Test\n",
    "\n",
    "[Iterative Generation](https://huggingface.co/docs/transformers/main/en/kv_cache#iterative-generation)"
   ]
  },
  {
   "cell_type": "code",
   "execution_count": 97,
   "metadata": {},
   "outputs": [],
   "source": [
    "# model.generate(streamer=None)\n"
   ]
  }
 ],
 "metadata": {
  "kernelspec": {
   "display_name": "Python 3",
   "language": "python",
   "name": "python3"
  },
  "language_info": {
   "codemirror_mode": {
    "name": "ipython",
    "version": 3
   },
   "file_extension": ".py",
   "mimetype": "text/x-python",
   "name": "python",
   "nbconvert_exporter": "python",
   "pygments_lexer": "ipython3",
   "version": "3.10.14"
  }
 },
 "nbformat": 4,
 "nbformat_minor": 2
}
